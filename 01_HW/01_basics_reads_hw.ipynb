{
  "nbformat": 4,
  "nbformat_minor": 0,
  "metadata": {
    "colab": {
      "provenance": []
    },
    "kernelspec": {
      "name": "python3",
      "display_name": "Python 3"
    },
    "language_info": {
      "name": "python"
    }
  },
  "cells": [
    {
      "cell_type": "code",
      "execution_count": null,
      "metadata": {
        "id": "hyBxeTPar-aa"
      },
      "outputs": [],
      "source": [
        "#sratoolkit\n",
        "!wget https://ftp-trace.ncbi.nlm.nih.gov/sra/sdk/3.0.0/sratoolkit.3.0.0-ubuntu64.tar.gz\n",
        "!tar -xvzf sratoolkit.3.0.0-ubuntu64.tar.gz"
      ]
    },
    {
      "cell_type": "code",
      "source": [
        "#to turn on sratoolkit in Colab\n",
        "!sratoolkit.3.0.0-ubuntu64/bin/vdb-config -i\n"
      ],
      "metadata": {
        "colab": {
          "base_uri": "https://localhost:8080/"
        },
        "id": "52T6Lsx6sCAH",
        "outputId": "64d635ea-c588-4855-f407-95cbffc1723f"
      },
      "execution_count": 2,
      "outputs": [
        {
          "output_type": "stream",
          "name": "stdout",
          "text": [
            "\u001b[2J\u001b[?25l\u001b[?1000h\u001b[?1002h2022-09-22T14:54:22 vdb-config.3.0.0 fatal: SIGNAL - Segmentation fault \n"
          ]
        }
      ]
    },
    {
      "cell_type": "code",
      "source": [
        "#fastqc\n",
        "!wget https://www.bioinformatics.babraham.ac.uk/projects/fastqc/fastqc_v0.11.9.zip\n",
        "!unzip fastqc_v0.11.9.zip"
      ],
      "metadata": {
        "id": "G5PEjPwfsVsJ"
      },
      "execution_count": null,
      "outputs": []
    },
    {
      "cell_type": "code",
      "source": [
        "#make fastqc work in Colab\n",
        "!chmod +x FastQC/fastqc\n",
        "!mkdir qc\n",
        "#!FastQC/fastqc -o qc SRR3900953_1.fastq.gz SRR3900953_2.fastq.gz"
      ],
      "metadata": {
        "colab": {
          "base_uri": "https://localhost:8080/"
        },
        "id": "kgR5YnhWsj4y",
        "outputId": "6c49908f-ef52-4484-877f-aa65f05d3588"
      },
      "execution_count": 4,
      "outputs": [
        {
          "output_type": "stream",
          "name": "stdout",
          "text": [
            "Skipping 'SRR3900953_1.fastq.gz' which didn't exist, or couldn't be read\n",
            "Skipping 'SRR3900953_2.fastq.gz' which didn't exist, or couldn't be read\n"
          ]
        }
      ]
    },
    {
      "cell_type": "code",
      "source": [
        "#multiqc\n",
        "!pip3 install multiqc\n",
        "!multiqc qc"
      ],
      "metadata": {
        "id": "dTg9W1Z_s6E5"
      },
      "execution_count": null,
      "outputs": []
    },
    {
      "cell_type": "code",
      "source": [
        "#nextflow\n",
        "!curl -fsSL https://get.nextflow.io | bash\n"
      ],
      "metadata": {
        "id": "00s_ggk6tDCz"
      },
      "execution_count": null,
      "outputs": []
    },
    {
      "cell_type": "code",
      "source": [
        "# SRR6410613, SRR6410614\t(2 from https://www.ncbi.nlm.nih.gov/sra/?term=SRP127360 )\n",
        "!./nextflow run my_pipeline.nf -with-report nextflow_report.html -with-dag flowchart.pdf --SRA SRR6410613,SRR6410614"
      ],
      "metadata": {
        "colab": {
          "base_uri": "https://localhost:8080/"
        },
        "id": "Ozg0yEOBtI6B",
        "outputId": "4e5175bb-cb5e-410f-9b32-0c700fef5d47"
      },
      "execution_count": 8,
      "outputs": [
        {
          "output_type": "stream",
          "name": "stdout",
          "text": [
            "N E X T F L O W  ~  version 22.04.5\n",
            "Launching `my_pipeline.nf` [nice_faggin] DSL2 - revision: 30656d3ce8\n",
            "\n",
            "  Q U A L I T Y   C O N T R O L  \n",
            "=================================\n",
            "SRA number         : [SRR6410613, SRR6410614]\n",
            "Results location   : results/\n",
            "[-        ] process > DownloadFastQ -\u001b[K\n",
            "[-        ] process > QC            -\u001b[K\n",
            "\u001b[3A\n",
            "[-        ] process > DownloadFastQ [  0%] 0 of 2\u001b[K\n",
            "[-        ] process > QC            -\u001b[K\n",
            "[-        ] process > MultiQC       -\u001b[K\n",
            "\u001b[4A\n",
            "executor >  local (2)\u001b[K\n",
            "[45/f43843] process > DownloadFastQ (1) [  0%] 0 of 2\u001b[K\n",
            "[-        ] process > QC                -\u001b[K\n",
            "[-        ] process > MultiQC           -\u001b[K\n",
            "\u001b[5A\n",
            "executor >  local (2)\u001b[K\n",
            "[ab/520c9e] process > DownloadFastQ (2) [ 50%] 1 of 2\u001b[K\n",
            "[-        ] process > QC                [  0%] 0 of 1\u001b[K\n",
            "[-        ] process > MultiQC           -\u001b[K\n",
            "\u001b[5A\n",
            "executor >  local (3)\u001b[K\n",
            "[ab/520c9e] process > DownloadFastQ (2) [ 50%] 1 of 2\u001b[K\n",
            "[1f/18a4e7] process > QC (1)            [  0%] 0 of 1\u001b[K\n",
            "[-        ] process > MultiQC           -\u001b[K\n",
            "\u001b[5A\n",
            "executor >  local (4)\u001b[K\n",
            "[45/f43843] process > DownloadFastQ (1) [100%] 2 of 2 ✔\u001b[K\n",
            "[3e/2744b2] process > QC (2)            [  0%] 0 of 2\u001b[K\n",
            "[-        ] process > MultiQC           -\u001b[K\n",
            "\u001b[5A\n",
            "executor >  local (4)\u001b[K\n",
            "[45/f43843] process > DownloadFastQ (1) [100%] 2 of 2 ✔\u001b[K\n",
            "[1f/18a4e7] process > QC (1)            [ 50%] 1 of 2\u001b[K\n",
            "[-        ] process > MultiQC           -\u001b[K\n",
            "\u001b[5A\n",
            "executor >  local (5)\u001b[K\n",
            "[45/f43843] process > DownloadFastQ (1) [100%] 2 of 2 ✔\u001b[K\n",
            "[3e/2744b2] process > QC (2)            [100%] 2 of 2 ✔\u001b[K\n",
            "[59/d72ab4] process > MultiQC           [  0%] 0 of 1\u001b[K\n",
            "\u001b[5A\n",
            "executor >  local (5)\u001b[K\n",
            "[45/f43843] process > DownloadFastQ (1) [100%] 2 of 2 ✔\u001b[K\n",
            "[3e/2744b2] process > QC (2)            [100%] 2 of 2 ✔\u001b[K\n",
            "[59/d72ab4] process > MultiQC           [100%] 1 of 1 ✔\u001b[K\n",
            "\u001b[5A\n",
            "executor >  local (5)\u001b[K\n",
            "[45/f43843] process > DownloadFastQ (1) [100%] 2 of 2 ✔\u001b[K\n",
            "[3e/2744b2] process > QC (2)            [100%] 2 of 2 ✔\u001b[K\n",
            "[59/d72ab4] process > MultiQC           [100%] 1 of 1 ✔\u001b[K\n",
            "\u001b[32;1mCompleted at: 22-Sep-2022 15:58:16\n",
            "Duration    : 36m 28s\n",
            "CPU hours   : 1.2\n",
            "Succeeded   : 5\n",
            "\u001b[22;39m\u001b[K\n",
            "\n"
          ]
        }
      ]
    },
    {
      "cell_type": "code",
      "source": [],
      "metadata": {
        "id": "-3rdRWajylbK"
      },
      "execution_count": null,
      "outputs": []
    }
  ]
}